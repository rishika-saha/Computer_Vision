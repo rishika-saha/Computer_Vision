{
 "cells": [
  {
   "cell_type": "code",
   "execution_count": 5,
   "metadata": {},
   "outputs": [],
   "source": [
    "import cv2\n",
    "import mediapipe as mp\n",
    "import pyautogui"
   ]
  },
  {
   "cell_type": "code",
   "execution_count": 6,
   "metadata": {},
   "outputs": [],
   "source": [
    "mpHands = mp.solutions.hands\n",
    "hands = mpHands.Hands(max_num_hands=1)\n",
    "mpDraw = mp.solutions.drawing_utils\n",
    "Imp_ids = [8, 12]"
   ]
  },
  {
   "cell_type": "code",
   "execution_count": 7,
   "metadata": {},
   "outputs": [
    {
     "name": "stdout",
     "output_type": "stream",
     "text": [
      "Size(width=1366, height=768)\n"
     ]
    }
   ],
   "source": [
    "print(pyautogui.size())"
   ]
  },
  {
   "cell_type": "code",
   "execution_count": 8,
   "metadata": {},
   "outputs": [],
   "source": [
    "camera = cv2.VideoCapture(0)\n",
    "camera.set(3, 1280)\n",
    "camera.set(4, 720)\n",
    "while True:\n",
    "    check, image = camera.read()\n",
    "    \n",
    "    #Find the hand landmarks and positions\n",
    "    img_RGB = cv2.cvtColor(image, cv2.COLOR_BGR2RGB)\n",
    "    results = hands.process(img_RGB)\n",
    "    lmlist = []\n",
    "    Y_Points = []\n",
    "    if results.multi_hand_landmarks:\n",
    "        for hand in results.multi_hand_landmarks:\n",
    "            #lmlist = []\n",
    "            for id, lms in enumerate(hand.landmark):\n",
    "                h, w, c = image.shape\n",
    "                cx, cy = int(lms.x*w), int(lms.y*h)\n",
    "                Y_Points.append(cy)\n",
    "                #print(id,cx,cy)\n",
    "                lmlist.append([id,cx,cy])\n",
    "            mpDraw.draw_landmarks(image, hand, mpHands.HAND_CONNECTIONS)\n",
    "\n",
    "    \n",
    "    \n",
    "    #Finding the co-ordinates of the index finger and middle finger\n",
    "\n",
    "\n",
    "    if len(lmlist)!=0 :\n",
    "        x1, y1 = lmlist[8][1:]\n",
    "        x2, y2 = lmlist[12][1:]\n",
    "\n",
    "        pyautogui.moveTo(1366 - x1, y1, duration=0.1)\n",
    "        dist = pow(x2-x1, 2) + pow(y2-y1,2)\n",
    "        if (dist<1200):\n",
    "            pyautogui.click(1366 - x1, y1)\n",
    "        #print(x1,y1,x2,y2)\n",
    "    \n",
    "    \n",
    "        \n",
    "    \n",
    "\n",
    "    \n",
    "    cv2.imshow(\"Image\",image)\n",
    "    if cv2.waitKey(1) & 0xFF==ord('a'):\n",
    "        break\n",
    "camera.release()\n",
    "cv2.destroyAllWindows()"
   ]
  }
 ],
 "metadata": {
  "interpreter": {
   "hash": "a3bd42f88a0df907ebd149bcc44e4f9b390235c477e90d29ea9db37fdbac9377"
  },
  "kernelspec": {
   "display_name": "Python 3.9.5 64-bit",
   "name": "python3"
  },
  "language_info": {
   "codemirror_mode": {
    "name": "ipython",
    "version": 3
   },
   "file_extension": ".py",
   "mimetype": "text/x-python",
   "name": "python",
   "nbconvert_exporter": "python",
   "pygments_lexer": "ipython3",
   "version": "3.9.5"
  },
  "orig_nbformat": 4
 },
 "nbformat": 4,
 "nbformat_minor": 2
}
