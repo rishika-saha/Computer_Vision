{
 "cells": [
  {
   "cell_type": "markdown",
   "metadata": {},
   "source": [
    "Cvzone - This is a Computer vision package that makes its easy to run Image processing and AI functions. At the core it uses OpenCV and Mediapipe libraries.\n",
    "MediaPipe Selfie Segmentation segments the prominent humans in the scene. It can run in real-time on both smartphones and laptops. The intended use cases include selfie effects and video conferencing, where the person is close (< 2m) to the camera.\n"
   ]
  },
  {
   "cell_type": "code",
   "execution_count": 1,
   "metadata": {},
   "outputs": [],
   "source": [
    "import cv2\n",
    "import cvzone\n",
    "from cvzone.SelfiSegmentationModule import SelfiSegmentation\n",
    "import os"
   ]
  },
  {
   "cell_type": "code",
   "execution_count": 2,
   "metadata": {},
   "outputs": [],
   "source": [
    "segmentor = SelfiSegmentation()\n",
    "imgList = os.listdir(\"Images\")\n",
    "imgIndex = 0\n",
    "image = []\n",
    "for imgPath in imgList:\n",
    "    img = cv2.imread(f'Images/{imgPath}')\n",
    "    image.append(img)"
   ]
  },
  {
   "cell_type": "code",
   "execution_count": 3,
   "metadata": {},
   "outputs": [],
   "source": [
    "camera = cv2.VideoCapture(0)\n",
    "while True :\n",
    "    check, img = camera.read()\n",
    "    imgOut = segmentor.removeBG(img,image[imgIndex],threshold=0.7)\n",
    "\n",
    "    cv2.imshow(\"Image\",imgOut)\n",
    "    key = cv2.waitKey(1)\n",
    "    if key == ord('a'):\n",
    "        if imgIndex< len(image)-1:\n",
    "            imgIndex +=1\n",
    "    if key == ord('d'):\n",
    "        if imgIndex>0:\n",
    "            imgIndex -=1\n",
    "    elif key == ord('q'):\n",
    "        break\n",
    "camera.release()\n",
    "cv2.destroyAllWindows()"
   ]
  }
 ],
 "metadata": {
  "interpreter": {
   "hash": "a3bd42f88a0df907ebd149bcc44e4f9b390235c477e90d29ea9db37fdbac9377"
  },
  "kernelspec": {
   "display_name": "Python 3.9.5 64-bit",
   "name": "python3"
  },
  "language_info": {
   "codemirror_mode": {
    "name": "ipython",
    "version": 3
   },
   "file_extension": ".py",
   "mimetype": "text/x-python",
   "name": "python",
   "nbconvert_exporter": "python",
   "pygments_lexer": "ipython3",
   "version": "3.9.5"
  },
  "orig_nbformat": 4
 },
 "nbformat": 4,
 "nbformat_minor": 2
}
