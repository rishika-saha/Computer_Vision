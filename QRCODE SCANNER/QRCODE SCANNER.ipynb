{
 "cells": [
  {
   "cell_type": "code",
   "execution_count": 1,
   "metadata": {},
   "outputs": [],
   "source": [
    "import cv2\n",
    "from pyzbar import pyzbar"
   ]
  },
  {
   "cell_type": "code",
   "execution_count": 2,
   "metadata": {},
   "outputs": [],
   "source": [
    "def detect_codes(codes, image):\n",
    "    for code in codes:\n",
    "        (x, y, w, h) = code.rect\n",
    "        cv2.rectangle(image, (x, y), (x + w, y + h), (0, 0, 255), 2)\n",
    "        codeData = code.data.decode(\"utf-8\")\n",
    "        codeType = code.type\n",
    "\n",
    "        text = \"{} ({})\".format(codeData, codeType)\n",
    "        cv2.putText(image, text, (x, y - 10), cv2.FONT_HERSHEY_SIMPLEX, 0.5, (0, 0, 255), 2)\n",
    "        print(\"[INFO] Found {} barcode: {}\".format(codeType, codeData))\n",
    "    return image"
   ]
  },
  {
   "cell_type": "code",
   "execution_count": 3,
   "metadata": {},
   "outputs": [
    {
     "name": "stdout",
     "output_type": "stream",
     "text": [
      "[INFO] Found EAN13 barcode: 5012345678900\n",
      "[INFO] Found EAN13 barcode: 5012345678900\n",
      "[INFO] Found EAN13 barcode: 1234567890128\n",
      "[INFO] Found EAN13 barcode: 1234567890128\n",
      "[INFO] Found EAN13 barcode: 1234567890128\n",
      "[INFO] Found EAN13 barcode: 1234567890128\n",
      "[INFO] Found EAN13 barcode: 1234567890128\n",
      "[INFO] Found EAN13 barcode: 1234567890128\n",
      "[INFO] Found EAN13 barcode: 1234567890128\n",
      "[INFO] Found EAN13 barcode: 1234567890128\n",
      "[INFO] Found EAN13 barcode: 1234567890128\n",
      "[INFO] Found EAN13 barcode: 1234567890128\n",
      "[INFO] Found EAN13 barcode: 1234567890128\n",
      "[INFO] Found EAN13 barcode: 1234567890128\n",
      "[INFO] Found EAN13 barcode: 1234567890128\n",
      "[INFO] Found EAN13 barcode: 1234567890128\n",
      "[INFO] Found EAN13 barcode: 1234567890128\n",
      "[INFO] Found EAN13 barcode: 1234567890128\n",
      "[INFO] Found EAN13 barcode: 1234567890128\n",
      "[INFO] Found EAN13 barcode: 1234567890128\n",
      "[INFO] Found EAN13 barcode: 1234567890128\n",
      "[INFO] Found EAN13 barcode: 1234567890128\n",
      "[INFO] Found EAN13 barcode: 1234567890128\n",
      "[INFO] Found EAN13 barcode: 1234567890128\n",
      "[INFO] Found EAN13 barcode: 1234567890128\n",
      "[INFO] Found EAN13 barcode: 1234567890128\n",
      "[INFO] Found EAN13 barcode: 1234567890128\n",
      "[INFO] Found EAN13 barcode: 1234567890128\n",
      "[INFO] Found EAN13 barcode: 1234567890128\n",
      "[INFO] Found EAN13 barcode: 1234567890128\n",
      "[INFO] Found EAN13 barcode: 1234567890128\n",
      "[INFO] Found EAN13 barcode: 1234567890128\n",
      "[INFO] Found EAN13 barcode: 1234567890128\n",
      "[INFO] Found EAN13 barcode: 1234567890128\n",
      "[INFO] Found EAN13 barcode: 1234567890128\n",
      "[INFO] Found QRCODE barcode: http://en.m.wikipedia.org\n",
      "[INFO] Found QRCODE barcode: http://en.m.wikipedia.org\n",
      "[INFO] Found QRCODE barcode: http://en.m.wikipedia.org\n",
      "[INFO] Found QRCODE barcode: http://en.m.wikipedia.org\n",
      "[INFO] Found QRCODE barcode: http://en.m.wikipedia.org\n",
      "[INFO] Found QRCODE barcode: http://en.m.wikipedia.org\n",
      "[INFO] Found QRCODE barcode: http://en.m.wikipedia.org\n",
      "[INFO] Found QRCODE barcode: http://en.m.wikipedia.org\n",
      "[INFO] Found QRCODE barcode: http://en.m.wikipedia.org\n",
      "[INFO] Found QRCODE barcode: http://en.m.wikipedia.org\n",
      "[INFO] Found QRCODE barcode: http://en.m.wikipedia.org\n",
      "[INFO] Found QRCODE barcode: http://en.m.wikipedia.org\n",
      "[INFO] Found QRCODE barcode: http://en.m.wikipedia.org\n",
      "[INFO] Found QRCODE barcode: http://en.m.wikipedia.org\n",
      "[INFO] Found QRCODE barcode: http://en.m.wikipedia.org\n",
      "[INFO] Found QRCODE barcode: https://www.investopedia.com/terms/q/quick-response-qr-code.asp\n",
      "[INFO] Found QRCODE barcode: https://www.investopedia.com/terms/q/quick-response-qr-code.asp\n",
      "[INFO] Found QRCODE barcode: https://www.investopedia.com/terms/q/quick-response-qr-code.asp\n",
      "[INFO] Found QRCODE barcode: https://www.investopedia.com/terms/q/quick-response-qr-code.asp\n",
      "[INFO] Found QRCODE barcode: https://www.investopedia.com/terms/q/quick-response-qr-code.asp\n",
      "[INFO] Found QRCODE barcode: https://www.investopedia.com/terms/q/quick-response-qr-code.asp\n",
      "[INFO] Found QRCODE barcode: https://www.investopedia.com/terms/q/quick-response-qr-code.asp\n",
      "[INFO] Found QRCODE barcode: https://www.investopedia.com/terms/q/quick-response-qr-code.asp\n",
      "[INFO] Found QRCODE barcode: https://www.investopedia.com/terms/q/quick-response-qr-code.asp\n",
      "[INFO] Found QRCODE barcode: https://www.investopedia.com/terms/q/quick-response-qr-code.asp\n",
      "[INFO] Found QRCODE barcode: https://www.investopedia.com/terms/q/quick-response-qr-code.asp\n",
      "[INFO] Found QRCODE barcode: https://www.investopedia.com/terms/q/quick-response-qr-code.asp\n",
      "[INFO] Found QRCODE barcode: https://www.investopedia.com/terms/q/quick-response-qr-code.asp\n",
      "[INFO] Found QRCODE barcode: https://www.investopedia.com/terms/q/quick-response-qr-code.asp\n",
      "[INFO] Found QRCODE barcode: https://www.investopedia.com/terms/q/quick-response-qr-code.asp\n",
      "[INFO] Found QRCODE barcode: https://www.investopedia.com/terms/q/quick-response-qr-code.asp\n",
      "[INFO] Found QRCODE barcode: https://www.investopedia.com/terms/q/quick-response-qr-code.asp\n",
      "[INFO] Found QRCODE barcode: https://www.investopedia.com/terms/q/quick-response-qr-code.asp\n",
      "[INFO] Found QRCODE barcode: https://www.investopedia.com/terms/q/quick-response-qr-code.asp\n",
      "[INFO] Found QRCODE barcode: https://www.investopedia.com/terms/q/quick-response-qr-code.asp\n",
      "[INFO] Found QRCODE barcode: https://www.investopedia.com/terms/q/quick-response-qr-code.asp\n",
      "[INFO] Found QRCODE barcode: https://www.investopedia.com/terms/q/quick-response-qr-code.asp\n",
      "[INFO] Found QRCODE barcode: https://www.investopedia.com/terms/q/quick-response-qr-code.asp\n",
      "[INFO] Found QRCODE barcode: https://www.investopedia.com/terms/q/quick-response-qr-code.asp\n",
      "[INFO] Found QRCODE barcode: https://www.investopedia.com/terms/q/quick-response-qr-code.asp\n",
      "[INFO] Found QRCODE barcode: https://www.investopedia.com/terms/q/quick-response-qr-code.asp\n"
     ]
    }
   ],
   "source": [
    "video = cv2.VideoCapture(0)\n",
    "while True:\n",
    "    check,original_image = video.read()\n",
    "    codes = pyzbar.decode(original_image)\n",
    "    canvas = detect_codes(codes,original_image)\n",
    "    cv2.imshow('Video_Display', canvas)\n",
    "    if cv2.waitKey(1) & 0xFF==ord('q'):\n",
    "        break\n",
    "Video_Capture.release()\n",
    "cv2.destroyAllWindows()"
   ]
  }
 ],
 "metadata": {
  "interpreter": {
   "hash": "a3bd42f88a0df907ebd149bcc44e4f9b390235c477e90d29ea9db37fdbac9377"
  },
  "kernelspec": {
   "display_name": "Python 3.9.5 64-bit",
   "language": "python",
   "name": "python3"
  },
  "language_info": {
   "codemirror_mode": {
    "name": "ipython",
    "version": 3
   },
   "file_extension": ".py",
   "mimetype": "text/x-python",
   "name": "python",
   "nbconvert_exporter": "python",
   "pygments_lexer": "ipython3",
   "version": "3.9.5"
  },
  "orig_nbformat": 4
 },
 "nbformat": 4,
 "nbformat_minor": 2
}
