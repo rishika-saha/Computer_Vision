{
  "nbformat": 4,
  "nbformat_minor": 0,
  "metadata": {
    "colab": {
      "name": "FMNIST_tensorflow",
      "provenance": [],
      "collapsed_sections": [],
      "authorship_tag": "ABX9TyMdOpVYhXH0/xMwDwQ8bVaX",
      "include_colab_link": true
    },
    "kernelspec": {
      "name": "python3",
      "display_name": "Python 3"
    },
    "language_info": {
      "name": "python"
    },
    "accelerator": "GPU"
  },
  "cells": [
    {
      "cell_type": "markdown",
      "metadata": {
        "id": "view-in-github",
        "colab_type": "text"
      },
      "source": [
        "<a href=\"https://colab.research.google.com/github/rishika-saha/Computer_Vision/blob/main/FMNIST_tensorflow.ipynb\" target=\"_parent\"><img src=\"https://colab.research.google.com/assets/colab-badge.svg\" alt=\"Open In Colab\"/></a>"
      ]
    },
    {
      "cell_type": "code",
      "metadata": {
        "colab": {
          "base_uri": "https://localhost:8080/"
        },
        "id": "Ch_gQdh9bX_N",
        "outputId": "1b4ceb74-29ed-4aa3-b4cd-9f694f2058bf"
      },
      "source": [
        "!nvidia-smi"
      ],
      "execution_count": null,
      "outputs": [
        {
          "output_type": "stream",
          "name": "stdout",
          "text": [
            "Wed Sep  1 05:00:37 2021       \n",
            "+-----------------------------------------------------------------------------+\n",
            "| NVIDIA-SMI 470.57.02    Driver Version: 460.32.03    CUDA Version: 11.2     |\n",
            "|-------------------------------+----------------------+----------------------+\n",
            "| GPU  Name        Persistence-M| Bus-Id        Disp.A | Volatile Uncorr. ECC |\n",
            "| Fan  Temp  Perf  Pwr:Usage/Cap|         Memory-Usage | GPU-Util  Compute M. |\n",
            "|                               |                      |               MIG M. |\n",
            "|===============================+======================+======================|\n",
            "|   0  Tesla K80           Off  | 00000000:00:04.0 Off |                    0 |\n",
            "| N/A   37C    P8    27W / 149W |      0MiB / 11441MiB |      0%      Default |\n",
            "|                               |                      |                  N/A |\n",
            "+-------------------------------+----------------------+----------------------+\n",
            "                                                                               \n",
            "+-----------------------------------------------------------------------------+\n",
            "| Processes:                                                                  |\n",
            "|  GPU   GI   CI        PID   Type   Process name                  GPU Memory |\n",
            "|        ID   ID                                                   Usage      |\n",
            "|=============================================================================|\n",
            "|  No running processes found                                                 |\n",
            "+-----------------------------------------------------------------------------+\n"
          ]
        }
      ]
    },
    {
      "cell_type": "markdown",
      "metadata": {
        "id": "AsVO0D8UD8Sh"
      },
      "source": [
        "**Importing Libraries**"
      ]
    },
    {
      "cell_type": "code",
      "metadata": {
        "id": "1qQ5ccgPbds8"
      },
      "source": [
        "import numpy as np\n",
        "import tensorflow as tf\n",
        "import matplotlib.pyplot as plt\n",
        "from keras.preprocessing.image import ImageDataGenerator"
      ],
      "execution_count": null,
      "outputs": []
    },
    {
      "cell_type": "markdown",
      "metadata": {
        "id": "1ITSrRZ-EDS7"
      },
      "source": [
        "**Importing Dataset**"
      ]
    },
    {
      "cell_type": "code",
      "metadata": {
        "colab": {
          "base_uri": "https://localhost:8080/"
        },
        "id": "9x-ftTM6b0Gx",
        "outputId": "3baeb96f-0f19-471a-e557-0cf78fb81d27"
      },
      "source": [
        "from keras.datasets import fashion_mnist\n",
        "(x_train,y_train), (x_test,y_test) = fashion_mnist.load_data()"
      ],
      "execution_count": null,
      "outputs": [
        {
          "output_type": "stream",
          "name": "stdout",
          "text": [
            "Downloading data from https://storage.googleapis.com/tensorflow/tf-keras-datasets/train-labels-idx1-ubyte.gz\n",
            "32768/29515 [=================================] - 0s 0us/step\n",
            "40960/29515 [=========================================] - 0s 0us/step\n",
            "Downloading data from https://storage.googleapis.com/tensorflow/tf-keras-datasets/train-images-idx3-ubyte.gz\n",
            "26427392/26421880 [==============================] - 0s 0us/step\n",
            "26435584/26421880 [==============================] - 0s 0us/step\n",
            "Downloading data from https://storage.googleapis.com/tensorflow/tf-keras-datasets/t10k-labels-idx1-ubyte.gz\n",
            "16384/5148 [===============================================================================================] - 0s 0us/step\n",
            "Downloading data from https://storage.googleapis.com/tensorflow/tf-keras-datasets/t10k-images-idx3-ubyte.gz\n",
            "4423680/4422102 [==============================] - 0s 0us/step\n",
            "4431872/4422102 [==============================] - 0s 0us/step\n"
          ]
        }
      ]
    },
    {
      "cell_type": "markdown",
      "metadata": {
        "id": "Q9YPTTLdEJds"
      },
      "source": [
        "**Preprocessing Dataset**"
      ]
    },
    {
      "cell_type": "code",
      "metadata": {
        "id": "7PlJv9ROp_9_"
      },
      "source": [
        "from tensorflow.keras.utils import to_categorical\n",
        "y_train = to_categorical(y_train)\n",
        "y_test = to_categorical(y_test)\n",
        "x_train=x_train.reshape(60000, 28, 28, 1)\n",
        "x_test=x_test.reshape(10000, 28, 28, 1)"
      ],
      "execution_count": null,
      "outputs": []
    },
    {
      "cell_type": "code",
      "metadata": {
        "id": "d9lYmDtZcFZR"
      },
      "source": [
        "train_datagen=ImageDataGenerator(width_shift_range=0.1, height_shift_range=0.1,rescale=1/255, shear_range=0.2, zoom_range=0.2, horizontal_flip=True)\n",
        "train_set=train_datagen.flow(x_train,y_train,batch_size = 32)\n",
        "test_datagen=ImageDataGenerator(rescale=1/255)\n",
        "test_set=test_datagen.flow(x_test, y_test, batch_size=32)"
      ],
      "execution_count": null,
      "outputs": []
    },
    {
      "cell_type": "markdown",
      "metadata": {
        "id": "Wb8hhP_rEPRT"
      },
      "source": [
        "**Building CNN**"
      ]
    },
    {
      "cell_type": "code",
      "metadata": {
        "id": "hFk46KpgdAeA"
      },
      "source": [
        "cnn=tf.keras.models.Sequential()"
      ],
      "execution_count": null,
      "outputs": []
    },
    {
      "cell_type": "code",
      "metadata": {
        "id": "1O3JCdKiequq"
      },
      "source": [
        "from keras.layers import BatchNormalization, Dropout"
      ],
      "execution_count": null,
      "outputs": []
    },
    {
      "cell_type": "markdown",
      "metadata": {
        "id": "Xk526phrEUsl"
      },
      "source": [
        "Convolution Layer1"
      ]
    },
    {
      "cell_type": "code",
      "metadata": {
        "id": "pxm94YPQfTLO"
      },
      "source": [
        "cnn.add(tf.keras.layers.Conv2D(filters=64, kernel_size=3, activation='relu', input_shape=[28,28,1]))\n",
        "cnn.add(BatchNormalization())\n",
        "cnn.add(tf.keras.layers.MaxPool2D(pool_size=(2,2), strides=2))\n",
        "cnn.add(Dropout(0.2))"
      ],
      "execution_count": null,
      "outputs": []
    },
    {
      "cell_type": "markdown",
      "metadata": {
        "id": "XBAkGDjgEYO6"
      },
      "source": [
        "Convolution Layer2"
      ]
    },
    {
      "cell_type": "code",
      "metadata": {
        "id": "QDbmLNR2rXyz"
      },
      "source": [
        "cnn.add(tf.keras.layers.Conv2D(filters=128, kernel_size=3, activation='relu'))\n",
        "cnn.add(BatchNormalization())\n",
        "cnn.add(tf.keras.layers.MaxPool2D(pool_size=(2,2), strides=2))\n",
        "cnn.add(Dropout(0.3))"
      ],
      "execution_count": null,
      "outputs": []
    },
    {
      "cell_type": "markdown",
      "metadata": {
        "id": "5D1-YLsxEcuy"
      },
      "source": [
        "Flattening"
      ]
    },
    {
      "cell_type": "code",
      "metadata": {
        "id": "j795d3kxrhM7"
      },
      "source": [
        "cnn.add(tf.keras.layers.Flatten())"
      ],
      "execution_count": null,
      "outputs": []
    },
    {
      "cell_type": "markdown",
      "metadata": {
        "id": "Sqj3WRjtEf9r"
      },
      "source": [
        "Full Connection"
      ]
    },
    {
      "cell_type": "code",
      "metadata": {
        "id": "aNyWB-uffl-V"
      },
      "source": [
        "cnn.add(tf.keras.layers.Dense(units=128, activation='relu'))\n",
        "cnn.add(BatchNormalization())\n",
        "cnn.add(Dropout(0.5))"
      ],
      "execution_count": null,
      "outputs": []
    },
    {
      "cell_type": "markdown",
      "metadata": {
        "id": "hNBwqsKPEj16"
      },
      "source": [
        "Output Layer"
      ]
    },
    {
      "cell_type": "code",
      "metadata": {
        "id": "4lgiHt_VrtXl"
      },
      "source": [
        "cnn.add(tf.keras.layers.Dense(units=10, activation='softmax'))"
      ],
      "execution_count": null,
      "outputs": []
    },
    {
      "cell_type": "markdown",
      "metadata": {
        "id": "iSRpnosFEm9B"
      },
      "source": [
        "**Model**"
      ]
    },
    {
      "cell_type": "code",
      "metadata": {
        "colab": {
          "base_uri": "https://localhost:8080/"
        },
        "id": "WwxtmJ-9rtUY",
        "outputId": "56151bb8-0e33-4592-e4d5-8afae77dc08f"
      },
      "source": [
        "from tensorflow.keras.optimizers import SGD\n",
        "cnn.compile(optimizer='adam', loss='categorical_crossentropy', metrics=['accuracy'])\n",
        "history=cnn.fit(train_set, validation_data=(test_set), epochs=80)"
      ],
      "execution_count": null,
      "outputs": [
        {
          "output_type": "stream",
          "name": "stdout",
          "text": [
            "Epoch 1/80\n",
            "1875/1875 [==============================] - 68s 21ms/step - loss: 0.7842 - accuracy: 0.7161 - val_loss: 0.4938 - val_accuracy: 0.8102\n",
            "Epoch 2/80\n",
            "1875/1875 [==============================] - 39s 21ms/step - loss: 0.5724 - accuracy: 0.7880 - val_loss: 0.3896 - val_accuracy: 0.8557\n",
            "Epoch 3/80\n",
            "1875/1875 [==============================] - 39s 21ms/step - loss: 0.5218 - accuracy: 0.8062 - val_loss: 0.3540 - val_accuracy: 0.8684\n",
            "Epoch 4/80\n",
            "1875/1875 [==============================] - 39s 21ms/step - loss: 0.4965 - accuracy: 0.8171 - val_loss: 0.3592 - val_accuracy: 0.8666\n",
            "Epoch 5/80\n",
            "1875/1875 [==============================] - 39s 21ms/step - loss: 0.4716 - accuracy: 0.8270 - val_loss: 0.3797 - val_accuracy: 0.8568\n",
            "Epoch 6/80\n",
            "1875/1875 [==============================] - 39s 21ms/step - loss: 0.4539 - accuracy: 0.8325 - val_loss: 0.3324 - val_accuracy: 0.8762\n",
            "Epoch 7/80\n",
            "1875/1875 [==============================] - 39s 21ms/step - loss: 0.4459 - accuracy: 0.8365 - val_loss: 0.3156 - val_accuracy: 0.8797\n",
            "Epoch 8/80\n",
            "1875/1875 [==============================] - 39s 21ms/step - loss: 0.4335 - accuracy: 0.8415 - val_loss: 0.3435 - val_accuracy: 0.8683\n",
            "Epoch 9/80\n",
            "1875/1875 [==============================] - 39s 21ms/step - loss: 0.4261 - accuracy: 0.8426 - val_loss: 0.3179 - val_accuracy: 0.8818\n",
            "Epoch 10/80\n",
            "1875/1875 [==============================] - 39s 21ms/step - loss: 0.4243 - accuracy: 0.8427 - val_loss: 0.3002 - val_accuracy: 0.8883\n",
            "Epoch 11/80\n",
            "1875/1875 [==============================] - 39s 21ms/step - loss: 0.4089 - accuracy: 0.8497 - val_loss: 0.3443 - val_accuracy: 0.8674\n",
            "Epoch 12/80\n",
            "1875/1875 [==============================] - 39s 21ms/step - loss: 0.4032 - accuracy: 0.8511 - val_loss: 0.3135 - val_accuracy: 0.8824\n",
            "Epoch 13/80\n",
            "1875/1875 [==============================] - 39s 21ms/step - loss: 0.4021 - accuracy: 0.8520 - val_loss: 0.2886 - val_accuracy: 0.8926\n",
            "Epoch 14/80\n",
            "1875/1875 [==============================] - 39s 21ms/step - loss: 0.3921 - accuracy: 0.8564 - val_loss: 0.3314 - val_accuracy: 0.8705\n",
            "Epoch 15/80\n",
            "1875/1875 [==============================] - 39s 21ms/step - loss: 0.3921 - accuracy: 0.8582 - val_loss: 0.2830 - val_accuracy: 0.8973\n",
            "Epoch 16/80\n",
            "1875/1875 [==============================] - 39s 21ms/step - loss: 0.3846 - accuracy: 0.8596 - val_loss: 0.2853 - val_accuracy: 0.8965\n",
            "Epoch 17/80\n",
            "1875/1875 [==============================] - 39s 21ms/step - loss: 0.3842 - accuracy: 0.8593 - val_loss: 0.2847 - val_accuracy: 0.8943\n",
            "Epoch 18/80\n",
            "1875/1875 [==============================] - 39s 21ms/step - loss: 0.3797 - accuracy: 0.8607 - val_loss: 0.3091 - val_accuracy: 0.8836\n",
            "Epoch 19/80\n",
            "1875/1875 [==============================] - 39s 21ms/step - loss: 0.3772 - accuracy: 0.8626 - val_loss: 0.2919 - val_accuracy: 0.8901\n",
            "Epoch 20/80\n",
            "1875/1875 [==============================] - 39s 21ms/step - loss: 0.3753 - accuracy: 0.8617 - val_loss: 0.3476 - val_accuracy: 0.8644\n",
            "Epoch 21/80\n",
            "1875/1875 [==============================] - 39s 21ms/step - loss: 0.3693 - accuracy: 0.8651 - val_loss: 0.2905 - val_accuracy: 0.8912\n",
            "Epoch 22/80\n",
            "1875/1875 [==============================] - 39s 21ms/step - loss: 0.3672 - accuracy: 0.8667 - val_loss: 0.2690 - val_accuracy: 0.9012\n",
            "Epoch 23/80\n",
            "1875/1875 [==============================] - 39s 21ms/step - loss: 0.3667 - accuracy: 0.8663 - val_loss: 0.2679 - val_accuracy: 0.8990\n",
            "Epoch 24/80\n",
            "1875/1875 [==============================] - 39s 21ms/step - loss: 0.3617 - accuracy: 0.8676 - val_loss: 0.2752 - val_accuracy: 0.8980\n",
            "Epoch 25/80\n",
            "1875/1875 [==============================] - 39s 21ms/step - loss: 0.3616 - accuracy: 0.8680 - val_loss: 0.4053 - val_accuracy: 0.8665\n",
            "Epoch 26/80\n",
            "1875/1875 [==============================] - 39s 21ms/step - loss: 0.3618 - accuracy: 0.8680 - val_loss: 0.2851 - val_accuracy: 0.8939\n",
            "Epoch 27/80\n",
            "1875/1875 [==============================] - 39s 21ms/step - loss: 0.3601 - accuracy: 0.8696 - val_loss: 0.2694 - val_accuracy: 0.9009\n",
            "Epoch 28/80\n",
            "1875/1875 [==============================] - 39s 21ms/step - loss: 0.3581 - accuracy: 0.8698 - val_loss: 0.3416 - val_accuracy: 0.8744\n",
            "Epoch 29/80\n",
            "1875/1875 [==============================] - 39s 21ms/step - loss: 0.3525 - accuracy: 0.8723 - val_loss: 0.2730 - val_accuracy: 0.8978\n",
            "Epoch 30/80\n",
            "1875/1875 [==============================] - 39s 21ms/step - loss: 0.3500 - accuracy: 0.8721 - val_loss: 0.2736 - val_accuracy: 0.8945\n",
            "Epoch 31/80\n",
            "1875/1875 [==============================] - 39s 21ms/step - loss: 0.3470 - accuracy: 0.8735 - val_loss: 0.3230 - val_accuracy: 0.8741\n",
            "Epoch 32/80\n",
            "1875/1875 [==============================] - 39s 21ms/step - loss: 0.3517 - accuracy: 0.8721 - val_loss: 0.2746 - val_accuracy: 0.8983\n",
            "Epoch 33/80\n",
            "1875/1875 [==============================] - 39s 21ms/step - loss: 0.3506 - accuracy: 0.8731 - val_loss: 0.3025 - val_accuracy: 0.8831\n",
            "Epoch 34/80\n",
            "1875/1875 [==============================] - 39s 21ms/step - loss: 0.3484 - accuracy: 0.8732 - val_loss: 0.2954 - val_accuracy: 0.8906\n",
            "Epoch 35/80\n",
            "1875/1875 [==============================] - 39s 21ms/step - loss: 0.3470 - accuracy: 0.8741 - val_loss: 0.2730 - val_accuracy: 0.8991\n",
            "Epoch 36/80\n",
            "1875/1875 [==============================] - 39s 21ms/step - loss: 0.3451 - accuracy: 0.8732 - val_loss: 0.2575 - val_accuracy: 0.9060\n",
            "Epoch 37/80\n",
            "1875/1875 [==============================] - 40s 21ms/step - loss: 0.3414 - accuracy: 0.8742 - val_loss: 0.2846 - val_accuracy: 0.8912\n",
            "Epoch 38/80\n",
            "1875/1875 [==============================] - 39s 21ms/step - loss: 0.3434 - accuracy: 0.8751 - val_loss: 0.2933 - val_accuracy: 0.8923\n",
            "Epoch 39/80\n",
            "1875/1875 [==============================] - 39s 21ms/step - loss: 0.3408 - accuracy: 0.8758 - val_loss: 0.2662 - val_accuracy: 0.9000\n",
            "Epoch 40/80\n",
            "1875/1875 [==============================] - 39s 21ms/step - loss: 0.3377 - accuracy: 0.8773 - val_loss: 0.2486 - val_accuracy: 0.9088\n",
            "Epoch 41/80\n",
            "1875/1875 [==============================] - 39s 21ms/step - loss: 0.3400 - accuracy: 0.8771 - val_loss: 0.2637 - val_accuracy: 0.9045\n",
            "Epoch 42/80\n",
            "1875/1875 [==============================] - 39s 21ms/step - loss: 0.3361 - accuracy: 0.8779 - val_loss: 0.2679 - val_accuracy: 0.9011\n",
            "Epoch 43/80\n",
            "1875/1875 [==============================] - 39s 21ms/step - loss: 0.3384 - accuracy: 0.8773 - val_loss: 0.2752 - val_accuracy: 0.8985\n",
            "Epoch 44/80\n",
            "1875/1875 [==============================] - 39s 21ms/step - loss: 0.3344 - accuracy: 0.8783 - val_loss: 0.2703 - val_accuracy: 0.8991\n",
            "Epoch 45/80\n",
            "1875/1875 [==============================] - 39s 21ms/step - loss: 0.3338 - accuracy: 0.8779 - val_loss: 0.2716 - val_accuracy: 0.8956\n",
            "Epoch 46/80\n",
            "1875/1875 [==============================] - 39s 21ms/step - loss: 0.3328 - accuracy: 0.8795 - val_loss: 0.2623 - val_accuracy: 0.9001\n",
            "Epoch 47/80\n",
            "1875/1875 [==============================] - 39s 21ms/step - loss: 0.3317 - accuracy: 0.8796 - val_loss: 0.2638 - val_accuracy: 0.9025\n",
            "Epoch 48/80\n",
            "1875/1875 [==============================] - 39s 21ms/step - loss: 0.3349 - accuracy: 0.8778 - val_loss: 0.2626 - val_accuracy: 0.9021\n",
            "Epoch 49/80\n",
            "1875/1875 [==============================] - 39s 21ms/step - loss: 0.3320 - accuracy: 0.8795 - val_loss: 0.2808 - val_accuracy: 0.8929\n",
            "Epoch 50/80\n",
            "1875/1875 [==============================] - 39s 21ms/step - loss: 0.3299 - accuracy: 0.8799 - val_loss: 0.2450 - val_accuracy: 0.9089\n",
            "Epoch 51/80\n",
            "1875/1875 [==============================] - 39s 21ms/step - loss: 0.3289 - accuracy: 0.8794 - val_loss: 0.2684 - val_accuracy: 0.9002\n",
            "Epoch 52/80\n",
            "1875/1875 [==============================] - 39s 21ms/step - loss: 0.3298 - accuracy: 0.8801 - val_loss: 0.2920 - val_accuracy: 0.8961\n",
            "Epoch 53/80\n",
            "1875/1875 [==============================] - 38s 20ms/step - loss: 0.3293 - accuracy: 0.8797 - val_loss: 0.2764 - val_accuracy: 0.8946\n",
            "Epoch 54/80\n",
            "1875/1875 [==============================] - 39s 21ms/step - loss: 0.3270 - accuracy: 0.8814 - val_loss: 0.2807 - val_accuracy: 0.8938\n",
            "Epoch 55/80\n",
            "1875/1875 [==============================] - 39s 21ms/step - loss: 0.3302 - accuracy: 0.8802 - val_loss: 0.2925 - val_accuracy: 0.8855\n",
            "Epoch 56/80\n",
            "1875/1875 [==============================] - 39s 21ms/step - loss: 0.3241 - accuracy: 0.8813 - val_loss: 0.2440 - val_accuracy: 0.9107\n",
            "Epoch 57/80\n",
            "1875/1875 [==============================] - 39s 21ms/step - loss: 0.3299 - accuracy: 0.8798 - val_loss: 0.3098 - val_accuracy: 0.8770\n",
            "Epoch 58/80\n",
            "1875/1875 [==============================] - 39s 21ms/step - loss: 0.3246 - accuracy: 0.8815 - val_loss: 0.2473 - val_accuracy: 0.9108\n",
            "Epoch 59/80\n",
            "1875/1875 [==============================] - 39s 21ms/step - loss: 0.3250 - accuracy: 0.8819 - val_loss: 0.2929 - val_accuracy: 0.8869\n",
            "Epoch 60/80\n",
            "1875/1875 [==============================] - 39s 21ms/step - loss: 0.3243 - accuracy: 0.8816 - val_loss: 0.2763 - val_accuracy: 0.8945\n",
            "Epoch 61/80\n",
            "1875/1875 [==============================] - 39s 21ms/step - loss: 0.3234 - accuracy: 0.8826 - val_loss: 0.2574 - val_accuracy: 0.9065\n",
            "Epoch 62/80\n",
            "1875/1875 [==============================] - 39s 21ms/step - loss: 0.3243 - accuracy: 0.8812 - val_loss: 0.2406 - val_accuracy: 0.9147\n",
            "Epoch 63/80\n",
            "1875/1875 [==============================] - 40s 21ms/step - loss: 0.3228 - accuracy: 0.8832 - val_loss: 0.2901 - val_accuracy: 0.8899\n",
            "Epoch 64/80\n",
            "1875/1875 [==============================] - 39s 21ms/step - loss: 0.3264 - accuracy: 0.8809 - val_loss: 0.2909 - val_accuracy: 0.8878\n",
            "Epoch 65/80\n",
            "1875/1875 [==============================] - 39s 21ms/step - loss: 0.3192 - accuracy: 0.8841 - val_loss: 0.2466 - val_accuracy: 0.9076\n",
            "Epoch 66/80\n",
            "1875/1875 [==============================] - 39s 21ms/step - loss: 0.3176 - accuracy: 0.8834 - val_loss: 0.2904 - val_accuracy: 0.8839\n",
            "Epoch 67/80\n",
            "1875/1875 [==============================] - 39s 21ms/step - loss: 0.3181 - accuracy: 0.8853 - val_loss: 0.2843 - val_accuracy: 0.8874\n",
            "Epoch 68/80\n",
            "1875/1875 [==============================] - 39s 21ms/step - loss: 0.3176 - accuracy: 0.8866 - val_loss: 0.3107 - val_accuracy: 0.8724\n",
            "Epoch 69/80\n",
            "1875/1875 [==============================] - 39s 21ms/step - loss: 0.3201 - accuracy: 0.8834 - val_loss: 0.2650 - val_accuracy: 0.8988\n",
            "Epoch 70/80\n",
            "1875/1875 [==============================] - 39s 21ms/step - loss: 0.3147 - accuracy: 0.8853 - val_loss: 0.2465 - val_accuracy: 0.9084\n",
            "Epoch 71/80\n",
            "1875/1875 [==============================] - 39s 21ms/step - loss: 0.3157 - accuracy: 0.8849 - val_loss: 0.2374 - val_accuracy: 0.9103\n",
            "Epoch 72/80\n",
            "1875/1875 [==============================] - 39s 21ms/step - loss: 0.3154 - accuracy: 0.8845 - val_loss: 0.2335 - val_accuracy: 0.9160\n",
            "Epoch 73/80\n",
            "1875/1875 [==============================] - 39s 21ms/step - loss: 0.3139 - accuracy: 0.8867 - val_loss: 0.2912 - val_accuracy: 0.8853\n",
            "Epoch 74/80\n",
            "1875/1875 [==============================] - 39s 21ms/step - loss: 0.3135 - accuracy: 0.8862 - val_loss: 0.2358 - val_accuracy: 0.9149\n",
            "Epoch 75/80\n",
            "1875/1875 [==============================] - 39s 21ms/step - loss: 0.3157 - accuracy: 0.8862 - val_loss: 0.2347 - val_accuracy: 0.9136\n",
            "Epoch 76/80\n",
            "1875/1875 [==============================] - 39s 21ms/step - loss: 0.3140 - accuracy: 0.8859 - val_loss: 0.2472 - val_accuracy: 0.9109\n",
            "Epoch 77/80\n",
            "1875/1875 [==============================] - 39s 21ms/step - loss: 0.3092 - accuracy: 0.8890 - val_loss: 0.2403 - val_accuracy: 0.9136\n",
            "Epoch 78/80\n",
            "1875/1875 [==============================] - 39s 21ms/step - loss: 0.3139 - accuracy: 0.8861 - val_loss: 0.2446 - val_accuracy: 0.9103\n",
            "Epoch 79/80\n",
            "1875/1875 [==============================] - 39s 21ms/step - loss: 0.3148 - accuracy: 0.8856 - val_loss: 0.2548 - val_accuracy: 0.9079\n",
            "Epoch 80/80\n",
            "1875/1875 [==============================] - 39s 21ms/step - loss: 0.3113 - accuracy: 0.8867 - val_loss: 0.2380 - val_accuracy: 0.9135\n"
          ]
        }
      ]
    },
    {
      "cell_type": "markdown",
      "metadata": {
        "id": "tsdB0mk2Evxx"
      },
      "source": [
        "**History**"
      ]
    },
    {
      "cell_type": "code",
      "metadata": {
        "id": "ITETSFCwsARF"
      },
      "source": [
        "def summarize_diagnostics(history):\n",
        "\tplt.subplot(211)\n",
        "\tplt.title('Cross Entropy Loss')\n",
        "\tplt.plot(history.history['loss'], color='blue', label='train')\n",
        "\tplt.plot(history.history['val_loss'], color='orange', label='test')\n",
        "\tplt.subplot(212)\n",
        "\tplt.title('Classification Accuracy')\n",
        "\tplt.plot(history.history['accuracy'], color='blue', label='train')\n",
        "\tplt.plot(history.history['val_accuracy'], color='orange', label='test')"
      ],
      "execution_count": null,
      "outputs": []
    },
    {
      "cell_type": "code",
      "metadata": {
        "colab": {
          "base_uri": "https://localhost:8080/",
          "height": 281
        },
        "id": "JT2LlQIp7KlF",
        "outputId": "e1435068-b111-49cd-929d-7bfe657fa379"
      },
      "source": [
        "summarize_diagnostics(history)"
      ],
      "execution_count": null,
      "outputs": [
        {
          "output_type": "display_data",
          "data": {
            "image/png": "[encoded data removed]",
            "text/plain": [
              "<Figure size 432x288 with 2 Axes>"
            ]
          },
          "metadata": {
            "needs_background": "light"
          }
        }
      ]
    },
    {
      "cell_type": "markdown",
      "metadata": {
        "id": "mlvrFAHOE0ak"
      },
      "source": [
        "**Predictions**"
      ]
    },
    {
      "cell_type": "markdown",
      "metadata": {
        "id": "oAbDq8TTE4Pj"
      },
      "source": [
        "1"
      ]
    },
    {
      "cell_type": "code",
      "metadata": {
        "colab": {
          "base_uri": "https://localhost:8080/"
        },
        "id": "Ab4HQJs67R9m",
        "outputId": "987691a7-141b-41eb-9d44-fe0a3bce94f3"
      },
      "source": [
        "from keras.preprocessing import image\n",
        "img=x_test[2]\n",
        "img=image.img_to_array(img)\n",
        "img=np.expand_dims(img, axis=0)\n",
        "result=cnn.predict(img)\n",
        "result=result.reshape(-1)\n",
        "max=result[0]\n",
        "pred=0\n",
        "for i in range(0, len(result)):\n",
        "    if(result[i]>max):\n",
        "        pred=i\n",
        "        max=result[i]\n",
        "print(pred)"
      ],
      "execution_count": null,
      "outputs": [
        {
          "output_type": "stream",
          "name": "stdout",
          "text": [
            "1\n"
          ]
        }
      ]
    },
    {
      "cell_type": "code",
      "metadata": {
        "colab": {
          "base_uri": "https://localhost:8080/",
          "height": 299
        },
        "id": "sz7RGih37ZLZ",
        "outputId": "1e7f2528-8969-4d5f-f1b0-cb49c17e8a2b"
      },
      "source": [
        "img1=x_test[2]\n",
        "img1=img1.reshape(28, 28)\n",
        "print(img1.shape)\n",
        "plt.imshow(img1)"
      ],
      "execution_count": null,
      "outputs": [
        {
          "output_type": "stream",
          "name": "stdout",
          "text": [
            "(28, 28)\n"
          ]
        },
        {
          "output_type": "execute_result",
          "data": {
            "text/plain": [
              "<matplotlib.image.AxesImage at 0x7fd19ffc22d0>"
            ]
          },
          "metadata": {},
          "execution_count": 25
        },
        {
          "output_type": "display_data",
          "data": {
            "image/png": "[encoded data removed]",
            "text/plain": [
              "<Figure size 432x288 with 1 Axes>"
            ]
          },
          "metadata": {
            "needs_background": "light"
          }
        }
      ]
    },
    {
      "cell_type": "markdown",
      "metadata": {
        "id": "X2wSwBdyE6AE"
      },
      "source": [
        "2"
      ]
    },
    {
      "cell_type": "code",
      "metadata": {
        "colab": {
          "base_uri": "https://localhost:8080/"
        },
        "id": "DHNvDZF2DdvL",
        "outputId": "491be585-d325-446f-e99b-f0476520b9c1"
      },
      "source": [
        "from keras.preprocessing import image\n",
        "img=x_test[2100]\n",
        "img=image.img_to_array(img)\n",
        "img=np.expand_dims(img, axis=0)\n",
        "result=cnn.predict(img)\n",
        "result=result.reshape(-1)\n",
        "max=result[0]\n",
        "pred=0\n",
        "for i in range(0, len(result)):\n",
        "    if(result[i]>max):\n",
        "        pred=i\n",
        "        max=result[i]\n",
        "print(pred)"
      ],
      "execution_count": null,
      "outputs": [
        {
          "output_type": "stream",
          "name": "stdout",
          "text": [
            "7\n"
          ]
        }
      ]
    },
    {
      "cell_type": "code",
      "metadata": {
        "colab": {
          "base_uri": "https://localhost:8080/",
          "height": 299
        },
        "id": "LzKYIPtbDsl3",
        "outputId": "7cecea34-c1b7-452f-feee-bcd1e468bb41"
      },
      "source": [
        "img1=x_test[2100]\n",
        "img1=img1.reshape(28, 28)\n",
        "print(img1.shape)\n",
        "plt.imshow(img1)"
      ],
      "execution_count": null,
      "outputs": [
        {
          "output_type": "stream",
          "name": "stdout",
          "text": [
            "(28, 28)\n"
          ]
        },
        {
          "output_type": "execute_result",
          "data": {
            "text/plain": [
              "<matplotlib.image.AxesImage at 0x7fd19ff4d9d0>"
            ]
          },
          "metadata": {},
          "execution_count": 28
        },
        {
          "output_type": "display_data",
          "data": {
            "image/png": "[encoded data removed]",
            "text/plain": [
              "<Figure size 432x288 with 1 Axes>"
            ]
          },
          "metadata": {
            "needs_background": "light"
          }
        }
      ]
    }
  ]
}