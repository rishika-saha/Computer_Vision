{
 "cells": [
  {
   "cell_type": "code",
   "execution_count": 8,
   "metadata": {},
   "outputs": [],
   "source": [
    "import cv2"
   ]
  },
  {
   "cell_type": "code",
   "execution_count": 9,
   "metadata": {},
   "outputs": [],
   "source": [
    "eye_cascade= cv2.CascadeClassifier(r\"C:\\Users\\rnsaha\\Desktop\\machine learning\\Open_CV\\open.ipynb\\haarcascade_eye.xml\")\r\n",
    "face_cascade= cv2.CascadeClassifier(r\"C:\\Users\\rnsaha\\Desktop\\machine learning\\Open_CV\\open.ipynb\\haarcascade_frontalface_default.xml\")\r\n",
    "smile_cascade= cv2.CascadeClassifier(r\"C:\\Users\\rnsaha\\Desktop\\machine learning\\Open_CV\\open.ipynb\\haarcascade_smile.xml\")"
   ]
  },
  {
   "cell_type": "code",
   "execution_count": 14,
   "metadata": {},
   "outputs": [],
   "source": [
    "def detect(grey, original_image):\r\n",
    "    faces= face_cascade.detectMultiScale(grey,1.3,5)\r\n",
    "    for (x,y,w,h) in faces:\r\n",
    "        cv2.rectangle(original_image, (x,y), (x+w, y+h), (255,0,0), 2)\r\n",
    "        roi_grey= grey[y:y+h,x:x+w]\r\n",
    "        roi_colour= original_image[y:y+h,x:x+w]\r\n",
    "        eyes= eye_cascade.detectMultiScale(roi_grey,1.1,11)\r\n",
    "        for (ex, ey, ew, eh) in eyes:\r\n",
    "            cv2.rectangle(roi_colour, (ex,ey), (ex+ew, ey+eh),(0,255,0),2)\r\n",
    "        smiles= smile_cascade.detectMultiScale(roi_grey,1.7,22)\r\n",
    "        for (sx, sy, sw, sh) in smiles:\r\n",
    "            cv2.rectangle(roi_colour, (sx,sy), (sx+sw, sy+sh),(0,0,255),2)\r\n",
    "    return original_image"
   ]
  },
  {
   "cell_type": "code",
   "execution_count": 15,
   "metadata": {},
   "outputs": [],
   "source": [
    "video_capture= cv2.VideoCapture(0)\r\n",
    "while True:\r\n",
    "    _,original_image = video_capture.read()\r\n",
    "    grey=cv2.cvtColor(original_image, cv2.COLOR_BGR2GRAY)\r\n",
    "    canvas=detect(grey=grey, original_image=original_image)\r\n",
    "    cv2.imshow('Video', canvas)\r\n",
    "    if cv2.waitKey(1) & 0xFF==ord('a'):\r\n",
    "        break\r\n",
    "video_capture.release()\r\n",
    "cv2.destroyAllWindows()"
   ]
  }
 ],
 "metadata": {
  "kernelspec": {
   "display_name": "Python 3.9.5 64-bit",
   "name": "python395jvsc74a57bd0a3bd42f88a0df907ebd149bcc44e4f9b390235c477e90d29ea9db37fdbac9377"
  },
  "language_info": {
   "codemirror_mode": {
    "name": "ipython",
    "version": 3
   },
   "file_extension": ".py",
   "mimetype": "text/x-python",
   "name": "python",
   "nbconvert_exporter": "python",
   "pygments_lexer": "ipython3",
   "version": "3.9.5"
  },
  "metadata": {
   "interpreter": {
    "hash": "a3bd42f88a0df907ebd149bcc44e4f9b390235c477e90d29ea9db37fdbac9377"
   }
  },
  "orig_nbformat": 2
 },
 "nbformat": 4,
 "nbformat_minor": 2
}