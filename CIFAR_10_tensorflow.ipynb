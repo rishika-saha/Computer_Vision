{
  "nbformat": 4,
  "nbformat_minor": 0,
  "metadata": {
    "colab": {
      "name": "CIFAR-10_tensorflow",
      "provenance": [],
      "toc_visible": true,
      "authorship_tag": "ABX9TyPksNBWcXfOitp2rVXQM68y",
      "include_colab_link": true
    },
    "kernelspec": {
      "name": "python3",
      "display_name": "Python 3"
    },
    "language_info": {
      "name": "python"
    },
    "accelerator": "GPU"
  },
  "cells": [
    {
      "cell_type": "markdown",
      "metadata": {
        "id": "view-in-github",
        "colab_type": "text"
      },
      "source": [
        "<a href=\"https://colab.research.google.com/github/rishika-saha/Computer_Vision/blob/main/CIFAR_10_tensorflow.ipynb\" target=\"_parent\"><img src=\"https://colab.research.google.com/assets/colab-badge.svg\" alt=\"Open In Colab\"/></a>"
      ]
    },
    {
      "cell_type": "code",
      "metadata": {
        "id": "38VBXvS2ELmp",
        "colab": {
          "base_uri": "https://localhost:8080/"
        },
        "outputId": "60bd7300-cb2f-45de-d58c-30192ce227fb"
      },
      "source": [
        "!nvidia-smi"
      ],
      "execution_count": 1,
      "outputs": [
        {
          "output_type": "stream",
          "name": "stdout",
          "text": [
            "Tue Aug 31 12:01:24 2021       \n",
            "+-----------------------------------------------------------------------------+\n",
            "| NVIDIA-SMI 470.57.02    Driver Version: 460.32.03    CUDA Version: 11.2     |\n",
            "|-------------------------------+----------------------+----------------------+\n",
            "| GPU  Name        Persistence-M| Bus-Id        Disp.A | Volatile Uncorr. ECC |\n",
            "| Fan  Temp  Perf  Pwr:Usage/Cap|         Memory-Usage | GPU-Util  Compute M. |\n",
            "|                               |                      |               MIG M. |\n",
            "|===============================+======================+======================|\n",
            "|   0  Tesla K80           Off  | 00000000:00:04.0 Off |                    0 |\n",
            "| N/A   36C    P8    29W / 149W |      0MiB / 11441MiB |      0%      Default |\n",
            "|                               |                      |                  N/A |\n",
            "+-------------------------------+----------------------+----------------------+\n",
            "                                                                               \n",
            "+-----------------------------------------------------------------------------+\n",
            "| Processes:                                                                  |\n",
            "|  GPU   GI   CI        PID   Type   Process name                  GPU Memory |\n",
            "|        ID   ID                                                   Usage      |\n",
            "|=============================================================================|\n",
            "|  No running processes found                                                 |\n",
            "+-----------------------------------------------------------------------------+\n"
          ]
        }
      ]
    },
    {
      "cell_type": "code",
      "metadata": {
        "id": "1wc1MKf8XODh"
      },
      "source": [
        "import numpy as np\n",
        "import tensorflow as tf\n",
        "import matplotlib.pyplot as plt\n",
        "from keras.preprocessing.image import ImageDataGenerator"
      ],
      "execution_count": 2,
      "outputs": []
    },
    {
      "cell_type": "code",
      "metadata": {
        "colab": {
          "base_uri": "https://localhost:8080/"
        },
        "id": "0h9UkMgwXoHp",
        "outputId": "b80f5eea-216f-4925-a0e9-4e47d1540031"
      },
      "source": [
        "from keras.datasets import cifar10\n",
        "(x_train,y_train), (x_test,y_test) = cifar10.load_data()"
      ],
      "execution_count": 3,
      "outputs": [
        {
          "output_type": "stream",
          "name": "stdout",
          "text": [
            "Downloading data from https://www.cs.toronto.edu/~kriz/cifar-10-python.tar.gz\n",
            "170500096/170498071 [==============================] - 6s 0us/step\n",
            "170508288/170498071 [==============================] - 6s 0us/step\n"
          ]
        }
      ]
    },
    {
      "cell_type": "code",
      "metadata": {
        "id": "XS_YKq_fX5wQ"
      },
      "source": [
        "from tensorflow.keras.utils import to_categorical\n",
        "y_train = to_categorical(y_train)\n",
        "y_test = to_categorical(y_test)"
      ],
      "execution_count": 4,
      "outputs": []
    },
    {
      "cell_type": "code",
      "metadata": {
        "id": "byS9w1YkZW8Y"
      },
      "source": [
        "train_datagen=ImageDataGenerator(width_shift_range=0.1, height_shift_range=0.1, rescale=1/255, shear_range=0.2, zoom_range=0.2, horizontal_flip=True)\n",
        "train_set=train_datagen.flow(x_train, y_train, batch_size=32)\n",
        "test_datagen=ImageDataGenerator(rescale=1/255)\n",
        "test_set=test_datagen.flow(x_test, y_test, batch_size=32)"
      ],
      "execution_count": 5,
      "outputs": []
    },
    {
      "cell_type": "code",
      "metadata": {
        "id": "s51bBEv2Z95A"
      },
      "source": [
        "cnn=tf.keras.models.Sequential()"
      ],
      "execution_count": 6,
      "outputs": []
    },
    {
      "cell_type": "code",
      "metadata": {
        "id": "_7JSvXVkaDDQ"
      },
      "source": [
        "from keras.layers import BatchNormalization, Dropout"
      ],
      "execution_count": 7,
      "outputs": []
    },
    {
      "cell_type": "code",
      "metadata": {
        "id": "OUwuECQJaHoW"
      },
      "source": [
        "cnn.add(tf.keras.layers.Conv2D(filters=64, kernel_size=3, activation='relu', input_shape=[32, 32, 3]))\n",
        "cnn.add(BatchNormalization())\n",
        "cnn.add(tf.keras.layers.MaxPool2D(pool_size=(2,2), strides=2))\n",
        "cnn.add(Dropout(0.2))"
      ],
      "execution_count": 8,
      "outputs": []
    },
    {
      "cell_type": "code",
      "metadata": {
        "id": "O-ucXu7maQU8"
      },
      "source": [
        "cnn.add(tf.keras.layers.Conv2D(filters=128, kernel_size=3, activation='relu'))\n",
        "cnn.add(BatchNormalization())\n",
        "cnn.add(tf.keras.layers.MaxPool2D(pool_size=(2,2), strides=2))\n",
        "cnn.add(Dropout(0.3))"
      ],
      "execution_count": 9,
      "outputs": []
    },
    {
      "cell_type": "code",
      "metadata": {
        "id": "f0TTCAVQaart"
      },
      "source": [
        "cnn.add(tf.keras.layers.Conv2D(filters=256, kernel_size=3, activation='relu'))\n",
        "cnn.add(BatchNormalization())\n",
        "cnn.add(tf.keras.layers.MaxPool2D(pool_size=(2,2), strides=2))\n",
        "cnn.add(Dropout(0.4))"
      ],
      "execution_count": 10,
      "outputs": []
    },
    {
      "cell_type": "code",
      "metadata": {
        "id": "fkTeujoiaeyv"
      },
      "source": [
        "cnn.add(tf.keras.layers.Flatten())"
      ],
      "execution_count": 11,
      "outputs": []
    },
    {
      "cell_type": "code",
      "metadata": {
        "id": "bJvv59BWai55"
      },
      "source": [
        "cnn.add(tf.keras.layers.Dense(units=128, activation='relu'))\n",
        "cnn.add(BatchNormalization())\n",
        "cnn.add(Dropout(0.5))"
      ],
      "execution_count": 12,
      "outputs": []
    },
    {
      "cell_type": "code",
      "metadata": {
        "id": "8Wf8W5MoaoI7"
      },
      "source": [
        "cnn.add(tf.keras.layers.Dense(units=10, activation='softmax'))"
      ],
      "execution_count": 13,
      "outputs": []
    },
    {
      "cell_type": "code",
      "metadata": {
        "colab": {
          "base_uri": "https://localhost:8080/"
        },
        "id": "NkxXThipatw8",
        "outputId": "35c7a488-eda2-4405-df51-3782dd7468fe"
      },
      "source": [
        "from tensorflow.keras.optimizers import SGD\n",
        "cnn.compile(optimizer='adam', loss='categorical_crossentropy', metrics=['accuracy'])\n",
        "history=cnn.fit(train_set, validation_data=(test_set), epochs=80)"
      ],
      "execution_count": 14,
      "outputs": [
        {
          "output_type": "stream",
          "name": "stdout",
          "text": [
            "Epoch 1/80\n",
            "1563/1563 [==============================] - 79s 32ms/step - loss: 1.8229 - accuracy: 0.3691 - val_loss: 1.3583 - val_accuracy: 0.4992\n",
            "Epoch 2/80\n",
            "1563/1563 [==============================] - 49s 32ms/step - loss: 1.4079 - accuracy: 0.4979 - val_loss: 1.2661 - val_accuracy: 0.5518\n",
            "Epoch 3/80\n",
            "1563/1563 [==============================] - 49s 31ms/step - loss: 1.2916 - accuracy: 0.5435 - val_loss: 1.0598 - val_accuracy: 0.6302\n",
            "Epoch 4/80\n",
            "1563/1563 [==============================] - 50s 32ms/step - loss: 1.2044 - accuracy: 0.5795 - val_loss: 1.2932 - val_accuracy: 0.5703\n",
            "Epoch 5/80\n",
            "1563/1563 [==============================] - 49s 32ms/step - loss: 1.1450 - accuracy: 0.5984 - val_loss: 0.8961 - val_accuracy: 0.6883\n",
            "Epoch 6/80\n",
            "1563/1563 [==============================] - 50s 32ms/step - loss: 1.0975 - accuracy: 0.6172 - val_loss: 0.9459 - val_accuracy: 0.6638\n",
            "Epoch 7/80\n",
            "1563/1563 [==============================] - 49s 32ms/step - loss: 1.0649 - accuracy: 0.6322 - val_loss: 1.0363 - val_accuracy: 0.6415\n",
            "Epoch 8/80\n",
            "1563/1563 [==============================] - 50s 32ms/step - loss: 1.0408 - accuracy: 0.6393 - val_loss: 1.0712 - val_accuracy: 0.6321\n",
            "Epoch 9/80\n",
            "1563/1563 [==============================] - 49s 32ms/step - loss: 1.0138 - accuracy: 0.6490 - val_loss: 0.8785 - val_accuracy: 0.6888\n",
            "Epoch 10/80\n",
            "1563/1563 [==============================] - 50s 32ms/step - loss: 0.9944 - accuracy: 0.6586 - val_loss: 0.7315 - val_accuracy: 0.7493\n",
            "Epoch 11/80\n",
            "1563/1563 [==============================] - 49s 31ms/step - loss: 0.9801 - accuracy: 0.6618 - val_loss: 0.7660 - val_accuracy: 0.7322\n",
            "Epoch 12/80\n",
            "1563/1563 [==============================] - 49s 31ms/step - loss: 0.9577 - accuracy: 0.6699 - val_loss: 0.7974 - val_accuracy: 0.7219\n",
            "Epoch 13/80\n",
            "1563/1563 [==============================] - 49s 31ms/step - loss: 0.9451 - accuracy: 0.6761 - val_loss: 0.7917 - val_accuracy: 0.7228\n",
            "Epoch 14/80\n",
            "1563/1563 [==============================] - 49s 31ms/step - loss: 0.9336 - accuracy: 0.6789 - val_loss: 0.7565 - val_accuracy: 0.7402\n",
            "Epoch 15/80\n",
            "1563/1563 [==============================] - 49s 31ms/step - loss: 0.9225 - accuracy: 0.6825 - val_loss: 0.7302 - val_accuracy: 0.7490\n",
            "Epoch 16/80\n",
            "1563/1563 [==============================] - 49s 32ms/step - loss: 0.9157 - accuracy: 0.6873 - val_loss: 0.7185 - val_accuracy: 0.7480\n",
            "Epoch 17/80\n",
            "1563/1563 [==============================] - 49s 31ms/step - loss: 0.9005 - accuracy: 0.6896 - val_loss: 0.8300 - val_accuracy: 0.7118\n",
            "Epoch 18/80\n",
            "1563/1563 [==============================] - 49s 31ms/step - loss: 0.8914 - accuracy: 0.6962 - val_loss: 0.6422 - val_accuracy: 0.7800\n",
            "Epoch 19/80\n",
            "1563/1563 [==============================] - 49s 31ms/step - loss: 0.8805 - accuracy: 0.6977 - val_loss: 0.6530 - val_accuracy: 0.7722\n",
            "Epoch 20/80\n",
            "1563/1563 [==============================] - 49s 31ms/step - loss: 0.8731 - accuracy: 0.6991 - val_loss: 0.6461 - val_accuracy: 0.7775\n",
            "Epoch 21/80\n",
            "1563/1563 [==============================] - 49s 31ms/step - loss: 0.8612 - accuracy: 0.7054 - val_loss: 0.7219 - val_accuracy: 0.7535\n",
            "Epoch 22/80\n",
            "1563/1563 [==============================] - 49s 31ms/step - loss: 0.8553 - accuracy: 0.7073 - val_loss: 0.8587 - val_accuracy: 0.7091\n",
            "Epoch 23/80\n",
            "1563/1563 [==============================] - 49s 31ms/step - loss: 0.8518 - accuracy: 0.7095 - val_loss: 1.0030 - val_accuracy: 0.6563\n",
            "Epoch 24/80\n",
            "1563/1563 [==============================] - 49s 32ms/step - loss: 0.8444 - accuracy: 0.7101 - val_loss: 0.6614 - val_accuracy: 0.7712\n",
            "Epoch 25/80\n",
            "1563/1563 [==============================] - 49s 31ms/step - loss: 0.8350 - accuracy: 0.7162 - val_loss: 0.6386 - val_accuracy: 0.7812\n",
            "Epoch 26/80\n",
            "1563/1563 [==============================] - 49s 31ms/step - loss: 0.8310 - accuracy: 0.7149 - val_loss: 0.8243 - val_accuracy: 0.7138\n",
            "Epoch 27/80\n",
            "1563/1563 [==============================] - 49s 31ms/step - loss: 0.8214 - accuracy: 0.7168 - val_loss: 0.6372 - val_accuracy: 0.7774\n",
            "Epoch 28/80\n",
            "1563/1563 [==============================] - 49s 31ms/step - loss: 0.8171 - accuracy: 0.7183 - val_loss: 0.6548 - val_accuracy: 0.7749\n",
            "Epoch 29/80\n",
            "1563/1563 [==============================] - 48s 31ms/step - loss: 0.8132 - accuracy: 0.7207 - val_loss: 0.6375 - val_accuracy: 0.7782\n",
            "Epoch 30/80\n",
            "1563/1563 [==============================] - 46s 29ms/step - loss: 0.8093 - accuracy: 0.7226 - val_loss: 0.9383 - val_accuracy: 0.6945\n",
            "Epoch 31/80\n",
            "1563/1563 [==============================] - 46s 29ms/step - loss: 0.8104 - accuracy: 0.7239 - val_loss: 0.7617 - val_accuracy: 0.7412\n",
            "Epoch 32/80\n",
            "1563/1563 [==============================] - 46s 29ms/step - loss: 0.8040 - accuracy: 0.7262 - val_loss: 0.6386 - val_accuracy: 0.7797\n",
            "Epoch 33/80\n",
            "1563/1563 [==============================] - 46s 29ms/step - loss: 0.7992 - accuracy: 0.7272 - val_loss: 0.7372 - val_accuracy: 0.7518\n",
            "Epoch 34/80\n",
            "1563/1563 [==============================] - 46s 29ms/step - loss: 0.7955 - accuracy: 0.7292 - val_loss: 0.6104 - val_accuracy: 0.7923\n",
            "Epoch 35/80\n",
            "1563/1563 [==============================] - 46s 30ms/step - loss: 0.7908 - accuracy: 0.7291 - val_loss: 0.5346 - val_accuracy: 0.8191\n",
            "Epoch 36/80\n",
            "1563/1563 [==============================] - 46s 30ms/step - loss: 0.7887 - accuracy: 0.7293 - val_loss: 0.7781 - val_accuracy: 0.7358\n",
            "Epoch 37/80\n",
            "1563/1563 [==============================] - 47s 30ms/step - loss: 0.7834 - accuracy: 0.7326 - val_loss: 0.6404 - val_accuracy: 0.7861\n",
            "Epoch 38/80\n",
            "1563/1563 [==============================] - 48s 31ms/step - loss: 0.7782 - accuracy: 0.7372 - val_loss: 0.9606 - val_accuracy: 0.6950\n",
            "Epoch 39/80\n",
            "1563/1563 [==============================] - 47s 30ms/step - loss: 0.7699 - accuracy: 0.7375 - val_loss: 0.6488 - val_accuracy: 0.7802\n",
            "Epoch 40/80\n",
            "1563/1563 [==============================] - 47s 30ms/step - loss: 0.7706 - accuracy: 0.7379 - val_loss: 0.5793 - val_accuracy: 0.7998\n",
            "Epoch 41/80\n",
            "1563/1563 [==============================] - 46s 30ms/step - loss: 0.7707 - accuracy: 0.7351 - val_loss: 0.8196 - val_accuracy: 0.7269\n",
            "Epoch 42/80\n",
            "1563/1563 [==============================] - 47s 30ms/step - loss: 0.7723 - accuracy: 0.7376 - val_loss: 0.5319 - val_accuracy: 0.8211\n",
            "Epoch 43/80\n",
            "1563/1563 [==============================] - 48s 31ms/step - loss: 0.7655 - accuracy: 0.7396 - val_loss: 0.5499 - val_accuracy: 0.8087\n",
            "Epoch 44/80\n",
            "1563/1563 [==============================] - 48s 30ms/step - loss: 0.7603 - accuracy: 0.7414 - val_loss: 0.6340 - val_accuracy: 0.7831\n",
            "Epoch 45/80\n",
            "1563/1563 [==============================] - 46s 30ms/step - loss: 0.7531 - accuracy: 0.7427 - val_loss: 0.6328 - val_accuracy: 0.7852\n",
            "Epoch 46/80\n",
            "1563/1563 [==============================] - 46s 30ms/step - loss: 0.7541 - accuracy: 0.7437 - val_loss: 0.5995 - val_accuracy: 0.7985\n",
            "Epoch 47/80\n",
            "1563/1563 [==============================] - 46s 30ms/step - loss: 0.7596 - accuracy: 0.7402 - val_loss: 0.5320 - val_accuracy: 0.8172\n",
            "Epoch 48/80\n",
            "1563/1563 [==============================] - 46s 29ms/step - loss: 0.7497 - accuracy: 0.7457 - val_loss: 0.5909 - val_accuracy: 0.8006\n",
            "Epoch 49/80\n",
            "1563/1563 [==============================] - 46s 29ms/step - loss: 0.7471 - accuracy: 0.7457 - val_loss: 0.7191 - val_accuracy: 0.7584\n",
            "Epoch 50/80\n",
            "1563/1563 [==============================] - 45s 29ms/step - loss: 0.7490 - accuracy: 0.7445 - val_loss: 0.5996 - val_accuracy: 0.7959\n",
            "Epoch 51/80\n",
            "1563/1563 [==============================] - 47s 30ms/step - loss: 0.7512 - accuracy: 0.7432 - val_loss: 0.6718 - val_accuracy: 0.7698\n",
            "Epoch 52/80\n",
            "1563/1563 [==============================] - 48s 31ms/step - loss: 0.7408 - accuracy: 0.7491 - val_loss: 0.6244 - val_accuracy: 0.7853\n",
            "Epoch 53/80\n",
            "1563/1563 [==============================] - 47s 30ms/step - loss: 0.7413 - accuracy: 0.7484 - val_loss: 0.5478 - val_accuracy: 0.8134\n",
            "Epoch 54/80\n",
            "1563/1563 [==============================] - 46s 30ms/step - loss: 0.7322 - accuracy: 0.7519 - val_loss: 0.5960 - val_accuracy: 0.7970\n",
            "Epoch 55/80\n",
            "1563/1563 [==============================] - 47s 30ms/step - loss: 0.7334 - accuracy: 0.7516 - val_loss: 0.6906 - val_accuracy: 0.7640\n",
            "Epoch 56/80\n",
            "1563/1563 [==============================] - 48s 31ms/step - loss: 0.7352 - accuracy: 0.7487 - val_loss: 0.5805 - val_accuracy: 0.8010\n",
            "Epoch 57/80\n",
            "1563/1563 [==============================] - 48s 31ms/step - loss: 0.7352 - accuracy: 0.7513 - val_loss: 0.5917 - val_accuracy: 0.7984\n",
            "Epoch 58/80\n",
            "1563/1563 [==============================] - 47s 30ms/step - loss: 0.7281 - accuracy: 0.7541 - val_loss: 0.5495 - val_accuracy: 0.8134\n",
            "Epoch 59/80\n",
            "1563/1563 [==============================] - 48s 30ms/step - loss: 0.7296 - accuracy: 0.7524 - val_loss: 0.5692 - val_accuracy: 0.8039\n",
            "Epoch 60/80\n",
            "1563/1563 [==============================] - 48s 30ms/step - loss: 0.7221 - accuracy: 0.7555 - val_loss: 0.5356 - val_accuracy: 0.8180\n",
            "Epoch 61/80\n",
            "1563/1563 [==============================] - 47s 30ms/step - loss: 0.7227 - accuracy: 0.7531 - val_loss: 0.6144 - val_accuracy: 0.7893\n",
            "Epoch 62/80\n",
            "1563/1563 [==============================] - 48s 31ms/step - loss: 0.7263 - accuracy: 0.7528 - val_loss: 0.5898 - val_accuracy: 0.7980\n",
            "Epoch 63/80\n",
            "1563/1563 [==============================] - 48s 31ms/step - loss: 0.7187 - accuracy: 0.7539 - val_loss: 0.7712 - val_accuracy: 0.7415\n",
            "Epoch 64/80\n",
            "1563/1563 [==============================] - 48s 31ms/step - loss: 0.7235 - accuracy: 0.7527 - val_loss: 0.7638 - val_accuracy: 0.7409\n",
            "Epoch 65/80\n",
            "1563/1563 [==============================] - 48s 30ms/step - loss: 0.7101 - accuracy: 0.7600 - val_loss: 0.5825 - val_accuracy: 0.8042\n",
            "Epoch 66/80\n",
            "1563/1563 [==============================] - 48s 30ms/step - loss: 0.7117 - accuracy: 0.7571 - val_loss: 0.5001 - val_accuracy: 0.8310\n",
            "Epoch 67/80\n",
            "1563/1563 [==============================] - 48s 31ms/step - loss: 0.7131 - accuracy: 0.7580 - val_loss: 0.7142 - val_accuracy: 0.7592\n",
            "Epoch 68/80\n",
            "1563/1563 [==============================] - 48s 31ms/step - loss: 0.7118 - accuracy: 0.7582 - val_loss: 0.5409 - val_accuracy: 0.8167\n",
            "Epoch 69/80\n",
            "1563/1563 [==============================] - 48s 31ms/step - loss: 0.7116 - accuracy: 0.7586 - val_loss: 0.6265 - val_accuracy: 0.7864\n",
            "Epoch 70/80\n",
            "1563/1563 [==============================] - 48s 30ms/step - loss: 0.7107 - accuracy: 0.7565 - val_loss: 0.5358 - val_accuracy: 0.8204\n",
            "Epoch 71/80\n",
            "1563/1563 [==============================] - 48s 31ms/step - loss: 0.7074 - accuracy: 0.7602 - val_loss: 0.5539 - val_accuracy: 0.8107\n",
            "Epoch 72/80\n",
            "1563/1563 [==============================] - 49s 31ms/step - loss: 0.7094 - accuracy: 0.7589 - val_loss: 0.5000 - val_accuracy: 0.8295\n",
            "Epoch 73/80\n",
            "1563/1563 [==============================] - 48s 31ms/step - loss: 0.7017 - accuracy: 0.7594 - val_loss: 0.5459 - val_accuracy: 0.8130\n",
            "Epoch 74/80\n",
            "1563/1563 [==============================] - 48s 31ms/step - loss: 0.7068 - accuracy: 0.7582 - val_loss: 0.6359 - val_accuracy: 0.7865\n",
            "Epoch 75/80\n",
            "1563/1563 [==============================] - 48s 31ms/step - loss: 0.6986 - accuracy: 0.7614 - val_loss: 0.5311 - val_accuracy: 0.8202\n",
            "Epoch 76/80\n",
            "1563/1563 [==============================] - 48s 30ms/step - loss: 0.6980 - accuracy: 0.7622 - val_loss: 0.5810 - val_accuracy: 0.7997\n",
            "Epoch 77/80\n",
            "1563/1563 [==============================] - 48s 31ms/step - loss: 0.6943 - accuracy: 0.7648 - val_loss: 0.5430 - val_accuracy: 0.8175\n",
            "Epoch 78/80\n",
            "1563/1563 [==============================] - 48s 31ms/step - loss: 0.7007 - accuracy: 0.7612 - val_loss: 0.5069 - val_accuracy: 0.8278\n",
            "Epoch 79/80\n",
            "1563/1563 [==============================] - 47s 30ms/step - loss: 0.6932 - accuracy: 0.7613 - val_loss: 0.5420 - val_accuracy: 0.8150\n",
            "Epoch 80/80\n",
            "1563/1563 [==============================] - 47s 30ms/step - loss: 0.6949 - accuracy: 0.7647 - val_loss: 0.5658 - val_accuracy: 0.8088\n"
          ]
        }
      ]
    },
    {
      "cell_type": "code",
      "metadata": {
        "id": "JntpAojXbW71"
      },
      "source": [
        "def summarize_diagnostics(history):\n",
        "\tplt.subplot(211)\n",
        "\tplt.title('Cross Entropy Loss')\n",
        "\tplt.plot(history.history['loss'], color='blue', label='train')\n",
        "\tplt.plot(history.history['val_loss'], color='orange', label='test')\n",
        "\tplt.subplot(212)\n",
        "\tplt.title('Classification Accuracy')\n",
        "\tplt.plot(history.history['accuracy'], color='blue', label='train')\n",
        "\tplt.plot(history.history['val_accuracy'], color='orange', label='test')"
      ],
      "execution_count": 20,
      "outputs": []
    },
    {
      "cell_type": "code",
      "metadata": {
        "colab": {
          "base_uri": "https://localhost:8080/",
          "height": 281
        },
        "id": "xXv_njT7btPd",
        "outputId": "dfee3c61-32af-44c5-f1de-901f54db186b"
      },
      "source": [
        "summarize_diagnostics(history)"
      ],
      "execution_count": 21,
      "outputs": [
        {
          "output_type": "display_data",
          "data": {
            "image/png": "[encoded data removed]",
            "text/plain": [
              "<Figure size 432x288 with 2 Axes>"
            ]
          },
          "metadata": {
            "needs_background": "light"
          }
        }
      ]
    },
    {
      "cell_type": "code",
      "metadata": {
        "colab": {
          "base_uri": "https://localhost:8080/"
        },
        "id": "XTh-ZCeOVdUy",
        "outputId": "dfad8108-9e6a-402b-855f-c68c0bc5ec2a"
      },
      "source": [
        "from keras.preprocessing import image\n",
        "img=x_test[2]\n",
        "img=image.img_to_array(img)\n",
        "img=np.expand_dims(img, axis=0)\n",
        "result=cnn.predict(img)\n",
        "result=result.reshape(-1)\n",
        "max=result[0]\n",
        "pred=0\n",
        "for i in range(0, len(result)):\n",
        "    if(result[i]>max):\n",
        "        pred=i\n",
        "        max=result[i]\n",
        "print(pred)"
      ],
      "execution_count": 26,
      "outputs": [
        {
          "output_type": "stream",
          "name": "stdout",
          "text": [
            "8\n"
          ]
        }
      ]
    },
    {
      "cell_type": "code",
      "metadata": {
        "colab": {
          "base_uri": "https://localhost:8080/",
          "height": 283
        },
        "id": "MFzOgyAFWKXi",
        "outputId": "24715651-308c-4bb1-da4e-4b4facf59229"
      },
      "source": [
        "plt.imshow(x_test[2])"
      ],
      "execution_count": 23,
      "outputs": [
        {
          "output_type": "execute_result",
          "data": {
            "text/plain": [
              "<matplotlib.image.AxesImage at 0x7fa014a61250>"
            ]
          },
          "metadata": {},
          "execution_count": 23
        },
        {
          "output_type": "display_data",
          "data": {
            "image/png": "[encoded data removed]",
            "text/plain": [
              "<Figure size 432x288 with 1 Axes>"
            ]
          },
          "metadata": {
            "needs_background": "light"
          }
        }
      ]
    },
    {
      "cell_type": "code",
      "metadata": {
        "colab": {
          "base_uri": "https://localhost:8080/"
        },
        "id": "-5daVkJaWO7v",
        "outputId": "d2338aaa-24c6-48fb-aada-1ec5a2f0bcf7"
      },
      "source": [
        "print(y_test[2])"
      ],
      "execution_count": 24,
      "outputs": [
        {
          "output_type": "stream",
          "name": "stdout",
          "text": [
            "[0. 0. 0. 0. 0. 0. 0. 0. 1. 0.]\n"
          ]
        }
      ]
    }
  ]
}