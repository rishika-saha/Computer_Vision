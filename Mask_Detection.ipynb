{
 "cells": [
  {
   "cell_type": "code",
   "execution_count": 1,
   "source": [
    "import cv2\r\n",
    "import numpy as np\r\n",
    "import keras\r\n",
    "from keras.preprocessing import image"
   ],
   "outputs": [],
   "metadata": {}
  },
  {
   "cell_type": "code",
   "execution_count": 2,
   "source": [
    "model = keras.models.load_model('C:/Users/rnsaha/Desktop/machine learning/Mask_Detector/model.h5')\r\n",
    "face_cascade = cv2.CascadeClassifier('C:/Users/rnsaha/Desktop/machine learning/Mask_Detector/haarcascade_frontalface_default.xml')"
   ],
   "outputs": [],
   "metadata": {}
  },
  {
   "cell_type": "code",
   "execution_count": 3,
   "source": [
    "def predict_class(img):\r\n",
    "    new_image = cv2.resize(img,(224,224))\r\n",
    "    pred_img = image.img_to_array(new_image)\r\n",
    "    pred_img = np.expand_dims(pred_img, axis=0)\r\n",
    "    result = model.predict(pred_img)\r\n",
    "    result = result.reshape(-1)\r\n",
    "    if(result==[1.]):\r\n",
    "        result=1\r\n",
    "    elif(result==[0.]):\r\n",
    "        result=0\r\n",
    "    return result"
   ],
   "outputs": [],
   "metadata": {}
  },
  {
   "cell_type": "code",
   "execution_count": 4,
   "source": [
    "def detect(grey, original_image):\r\n",
    "    faces = face_cascade.detectMultiScale(grey, 1.3, 5)\r\n",
    "    for (x, y, w, h) in faces:\r\n",
    "        roi_colour = original_image[y:y+h, x:x+w]\r\n",
    "        pred = predict_class(roi_colour)\r\n",
    "        print(pred)\r\n",
    "        if(pred==0):\r\n",
    "            cv2.rectangle(original_image, (x, y), (x+w, y+h), (0, 0, 255), 2)\r\n",
    "            cv2.putText(original_image, \"Mask\", (x, y+h), cv2.FONT_HERSHEY_SIMPLEX, 1, (255, 0, 0), 2)\r\n",
    "        elif(pred==1):\r\n",
    "            cv2.rectangle(original_image, (x, y), (x+w, y+h), (0, 255, 0), 2)\r\n",
    "            cv2.putText(original_image, \"No Mask\", (x, y+h), cv2.FONT_HERSHEY_SIMPLEX, 1, (0, 0, 255), 2)\r\n",
    "    return original_image"
   ],
   "outputs": [],
   "metadata": {}
  },
  {
   "cell_type": "markdown",
   "source": [
    "### 1 for No Mask and 0 for Mask"
   ],
   "metadata": {}
  },
  {
   "cell_type": "code",
   "execution_count": 5,
   "source": [
    "Video_Capture=cv2.VideoCapture(0)\r\n",
    "while True:\r\n",
    "    im, original =  Video_Capture.read()\r\n",
    "    grey = cv2.cvtColor(original, cv2.COLOR_BGR2GRAY)\r\n",
    "    canvas = detect(grey, original)\r\n",
    "    cv2.imshow('Video_Display', canvas)\r\n",
    "    if cv2.waitKey(1) & 0xFF==ord('a'):\r\n",
    "        break\r\n",
    "Video_Capture.release()\r\n",
    "cv2.destroyAllWindows()"
   ],
   "outputs": [
    {
     "output_type": "stream",
     "name": "stdout",
     "text": [
      "1\n",
      "1\n",
      "1\n",
      "1\n",
      "1\n",
      "1\n",
      "1\n",
      "1\n",
      "1\n",
      "1\n",
      "1\n",
      "1\n",
      "1\n",
      "1\n",
      "1\n",
      "1\n",
      "0\n",
      "0\n",
      "0\n",
      "0\n",
      "0\n",
      "0\n",
      "0\n",
      "0\n",
      "0\n",
      "0\n",
      "0\n",
      "0\n",
      "0\n",
      "0\n"
     ]
    }
   ],
   "metadata": {}
  }
 ],
 "metadata": {
  "orig_nbformat": 4,
  "language_info": {
   "name": "python",
   "version": "3.9.5",
   "mimetype": "text/x-python",
   "codemirror_mode": {
    "name": "ipython",
    "version": 3
   },
   "pygments_lexer": "ipython3",
   "nbconvert_exporter": "python",
   "file_extension": ".py"
  },
  "kernelspec": {
   "name": "python3",
   "display_name": "Python 3.9.5 64-bit"
  },
  "interpreter": {
   "hash": "a3bd42f88a0df907ebd149bcc44e4f9b390235c477e90d29ea9db37fdbac9377"
  }
 },
 "nbformat": 4,
 "nbformat_minor": 2
}